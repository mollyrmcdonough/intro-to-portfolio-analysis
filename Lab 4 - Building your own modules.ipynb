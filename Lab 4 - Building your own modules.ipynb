{
 "cells": [
  {
   "cell_type": "markdown",
   "id": "5b953dfa-ff23-4708-b78f-85921257acf2",
   "metadata": {},
   "source": [
    "Building Modules"
   ]
  },
  {
   "cell_type": "code",
   "execution_count": 2,
   "id": "a3b28011-c2f3-42d1-9b80-4ab54036054f",
   "metadata": {},
   "outputs": [],
   "source": [
    "import pandas as pd"
   ]
  },
  {
   "cell_type": "code",
   "execution_count": 3,
   "id": "c6973414-6477-477f-9d3e-a80c9eaf258c",
   "metadata": {},
   "outputs": [],
   "source": [
    "import hello as h"
   ]
  },
  {
   "cell_type": "code",
   "execution_count": 4,
   "id": "f4d5db6a-1737-4280-b372-28796cb6f663",
   "metadata": {},
   "outputs": [
    {
     "data": {
      "text/plain": [
       "'Hello Jim'"
      ]
     },
     "execution_count": 4,
     "metadata": {},
     "output_type": "execute_result"
    }
   ],
   "source": [
    "h.message"
   ]
  },
  {
   "cell_type": "code",
   "execution_count": 5,
   "id": "a5f78e5e-b1e3-434b-83c0-c61c316f4a3b",
   "metadata": {},
   "outputs": [
    {
     "data": {
      "text/plain": [
       "'Hello Jim'"
      ]
     },
     "execution_count": 5,
     "metadata": {},
     "output_type": "execute_result"
    }
   ],
   "source": [
    "h.message"
   ]
  },
  {
   "cell_type": "code",
   "execution_count": 6,
   "id": "1bf07036-d889-4be1-9f37-0b5166c74292",
   "metadata": {},
   "outputs": [],
   "source": [
    "import hello as h"
   ]
  },
  {
   "cell_type": "code",
   "execution_count": 7,
   "id": "c322536a-c08c-451a-af7b-75fefa088292",
   "metadata": {},
   "outputs": [
    {
     "data": {
      "text/plain": [
       "'Hello Jim'"
      ]
     },
     "execution_count": 7,
     "metadata": {},
     "output_type": "execute_result"
    }
   ],
   "source": [
    "h.message"
   ]
  },
  {
   "cell_type": "code",
   "execution_count": 11,
   "id": "b0b731b0-a92a-4979-a9d6-f857073f0144",
   "metadata": {},
   "outputs": [],
   "source": [
    "%load_ext autoreload"
   ]
  },
  {
   "cell_type": "code",
   "execution_count": 12,
   "id": "6809ee21-06e8-4b09-9b93-d51310731689",
   "metadata": {},
   "outputs": [],
   "source": [
    "%autoreload 2"
   ]
  },
  {
   "cell_type": "code",
   "execution_count": 13,
   "id": "f59e7194-9e74-4f49-8277-627a517d46f1",
   "metadata": {},
   "outputs": [
    {
     "data": {
      "text/plain": [
       "'Hello Jim'"
      ]
     },
     "execution_count": 13,
     "metadata": {},
     "output_type": "execute_result"
    }
   ],
   "source": [
    "h.message"
   ]
  },
  {
   "cell_type": "code",
   "execution_count": 14,
   "id": "1577ddf8-3f7d-451a-b5a7-bf1d543b0040",
   "metadata": {},
   "outputs": [
    {
     "data": {
      "text/plain": [
       "'Hello Jane and Jim'"
      ]
     },
     "execution_count": 14,
     "metadata": {},
     "output_type": "execute_result"
    }
   ],
   "source": [
    "h.message"
   ]
  },
  {
   "cell_type": "code",
   "execution_count": 15,
   "id": "abb81614-b1d7-4df7-b500-9f787566c5bd",
   "metadata": {},
   "outputs": [
    {
     "data": {
      "text/plain": [
       "'Hello Jane and Jim and Kim'"
      ]
     },
     "execution_count": 15,
     "metadata": {},
     "output_type": "execute_result"
    }
   ],
   "source": [
    "h.message"
   ]
  },
  {
   "cell_type": "code",
   "execution_count": 16,
   "id": "510f48ae-944b-42fd-a18f-d48902cb6ffd",
   "metadata": {},
   "outputs": [
    {
     "name": "stdout",
     "output_type": "stream",
     "text": [
      "The autoreload extension is already loaded. To reload it, use:\n",
      "  %reload_ext autoreload\n"
     ]
    }
   ],
   "source": [
    "%load_ext autoreload\n",
    "%autoreload 2\n",
    "# Do this anytime you're doing module development"
   ]
  },
  {
   "cell_type": "code",
   "execution_count": 21,
   "id": "0bff9f4f-6486-4ca9-9927-a486dd54ae55",
   "metadata": {},
   "outputs": [],
   "source": [
    "import edhec_risk_kit as erk\n",
    "\n",
    "returns = erk.get_ffme_returns()"
   ]
  },
  {
   "cell_type": "code",
   "execution_count": 22,
   "id": "234cd6ff-0c69-4290-b42a-e86a6bfd965e",
   "metadata": {},
   "outputs": [
    {
     "data": {
      "text/html": [
       "<div>\n",
       "<style scoped>\n",
       "    .dataframe tbody tr th:only-of-type {\n",
       "        vertical-align: middle;\n",
       "    }\n",
       "\n",
       "    .dataframe tbody tr th {\n",
       "        vertical-align: top;\n",
       "    }\n",
       "\n",
       "    .dataframe thead th {\n",
       "        text-align: right;\n",
       "    }\n",
       "</style>\n",
       "<table border=\"1\" class=\"dataframe\">\n",
       "  <thead>\n",
       "    <tr style=\"text-align: right;\">\n",
       "      <th></th>\n",
       "      <th>SmallCap</th>\n",
       "      <th>LargeCap</th>\n",
       "    </tr>\n",
       "  </thead>\n",
       "  <tbody>\n",
       "    <tr>\n",
       "      <th>1926-07</th>\n",
       "      <td>-0.0145</td>\n",
       "      <td>0.0329</td>\n",
       "    </tr>\n",
       "    <tr>\n",
       "      <th>1926-08</th>\n",
       "      <td>0.0512</td>\n",
       "      <td>0.0370</td>\n",
       "    </tr>\n",
       "    <tr>\n",
       "      <th>1926-09</th>\n",
       "      <td>0.0093</td>\n",
       "      <td>0.0067</td>\n",
       "    </tr>\n",
       "    <tr>\n",
       "      <th>1926-10</th>\n",
       "      <td>-0.0484</td>\n",
       "      <td>-0.0243</td>\n",
       "    </tr>\n",
       "    <tr>\n",
       "      <th>1926-11</th>\n",
       "      <td>-0.0078</td>\n",
       "      <td>0.0270</td>\n",
       "    </tr>\n",
       "  </tbody>\n",
       "</table>\n",
       "</div>"
      ],
      "text/plain": [
       "         SmallCap  LargeCap\n",
       "1926-07   -0.0145    0.0329\n",
       "1926-08    0.0512    0.0370\n",
       "1926-09    0.0093    0.0067\n",
       "1926-10   -0.0484   -0.0243\n",
       "1926-11   -0.0078    0.0270"
      ]
     },
     "execution_count": 22,
     "metadata": {},
     "output_type": "execute_result"
    }
   ],
   "source": [
    "returns.head()"
   ]
  },
  {
   "cell_type": "code",
   "execution_count": 23,
   "id": "2a6c1f26-7d22-49ea-9908-d3adcf8b0ffe",
   "metadata": {},
   "outputs": [
    {
     "data": {
      "text/plain": [
       "-0.8330007793945303"
      ]
     },
     "execution_count": 23,
     "metadata": {},
     "output_type": "execute_result"
    }
   ],
   "source": [
    "erk.drawdown(returns[\"SmallCap\"])[\"Drawdown\"].min()"
   ]
  },
  {
   "cell_type": "code",
   "execution_count": 24,
   "id": "775fd7c0-c7b4-4549-9d89-92d996be370f",
   "metadata": {},
   "outputs": [
    {
     "data": {
      "text/plain": [
       "-0.6312068077252387"
      ]
     },
     "execution_count": 24,
     "metadata": {},
     "output_type": "execute_result"
    }
   ],
   "source": [
    "erk.drawdown(returns[\"1975\":][\"SmallCap\"])[\"Drawdown\"].min()"
   ]
  },
  {
   "cell_type": "code",
   "execution_count": null,
   "id": "9c7bb975-5777-4ca4-a92b-431cc35a4801",
   "metadata": {},
   "outputs": [],
   "source": []
  },
  {
   "cell_type": "code",
   "execution_count": null,
   "id": "020a3c1b-dc63-4c18-80d3-6164205c60b9",
   "metadata": {},
   "outputs": [],
   "source": []
  }
 ],
 "metadata": {
  "kernelspec": {
   "display_name": "Python 3 (ipykernel)",
   "language": "python",
   "name": "python3"
  },
  "language_info": {
   "codemirror_mode": {
    "name": "ipython",
    "version": 3
   },
   "file_extension": ".py",
   "mimetype": "text/x-python",
   "name": "python",
   "nbconvert_exporter": "python",
   "pygments_lexer": "ipython3",
   "version": "3.9.7"
  }
 },
 "nbformat": 4,
 "nbformat_minor": 5
}
