{
 "cells": [
  {
   "cell_type": "markdown",
   "id": "eb1e1cbe-435a-4c94-b0d4-ce0ee407c645",
   "metadata": {
    "tags": []
   },
   "source": [
    "# N - Asset Efficient Frontier"
   ]
  },
  {
   "cell_type": "code",
   "execution_count": 19,
   "id": "9a107fc5-7d89-4359-8735-30d04458dd47",
   "metadata": {},
   "outputs": [
    {
     "name": "stdout",
     "output_type": "stream",
     "text": [
      "The autoreload extension is already loaded. To reload it, use:\n",
      "  %reload_ext autoreload\n"
     ]
    }
   ],
   "source": [
    "%load_ext autoreload\n",
    "%autoreload 2\n",
    "%matplotlib inline\n",
    "import edhec_risk_kit as erk\n",
    "\n",
    "ind = erk.get_ind_returns()\n",
    "er = erk.annualize_rets(ind[\"1996\":\"2000\"],12)\n",
    "cov = ind[\"1996\":\"2000\"].cov()"
   ]
  },
  {
   "cell_type": "markdown",
   "id": "c53ea59c-8850-4827-aa0a-5918bce56d92",
   "metadata": {
    "tags": []
   },
   "source": [
    "```python\n",
    "\n",
    "def plot_ef(n_points, er, cov, style = \".-\" ):\n",
    "    \"\"\"\n",
    "    Plots the N-asset efficient frontier\n",
    "    \"\"\"\n",
    "    weights = minimize_vol(target_return)?????\n",
    "    rets = [portfolio_return(w, er) for w in weights]\n",
    "    vols = [portfolio_vol(w, cov) for w in weights]\n",
    "    ef = pd.DataFrame({\n",
    "        \"Returns\":rets,\n",
    "        \"Volatility\":vols\n",
    "    })\n",
    "    return ef.plot.line(x=\"Volatility\", y = \"Returns\", style = style)\n",
    "```"
   ]
  },
  {
   "cell_type": "code",
   "execution_count": 3,
   "id": "a769bdf3-124b-47eb-b355-61cf2d498ab1",
   "metadata": {},
   "outputs": [],
   "source": [
    "from scipy.optimize import minimize"
   ]
  },
  {
   "cell_type": "code",
   "execution_count": 4,
   "id": "3d20801d-96ef-401c-b541-4ebc5b109f50",
   "metadata": {},
   "outputs": [
    {
     "data": {
      "text/plain": [
       "<AxesSubplot:xlabel='Volatility'>"
      ]
     },
     "execution_count": 4,
     "metadata": {},
     "output_type": "execute_result"
    },
    {
     "data": {
      "image/png": "[encoded data removed]",
      "text/plain": [
       "<Figure size 432x288 with 1 Axes>"
      ]
     },
     "metadata": {
      "needs_background": "light"
     },
     "output_type": "display_data"
    }
   ],
   "source": [
    "l = [\"Games\", \"Fin\"]\n",
    "erk.plot_ef2(20,er[l], cov.loc[l,l])"
   ]
  },
  {
   "cell_type": "code",
   "execution_count": 9,
   "id": "6cac0838-7f1f-4e2b-94ef-c01e84f0905d",
   "metadata": {},
   "outputs": [],
   "source": [
    "import numpy as np\n",
    "def minimize_vol(target_return, er, cov):\n",
    "    \"\"\"\n",
    "    target_ret -> W\n",
    "    \"\"\"\n",
    "    n = er.shape[0] #Number of assets\n",
    "    init_guess = np.repeat(1/n, n)\n",
    "    bounds = ((0.0, 1.0),)*n\n",
    "    return_is_target = {\n",
    "       'type': 'eq',\n",
    "        'args':(er,),\n",
    "        'fun': lambda weights, er: target_return - erk.portfolio_return(weights, er)\n",
    "    }\n",
    "    weights_sum_to_1 = {\n",
    "        'type': 'eq',\n",
    "        'fun': lambda weights: np.sum(weights)-1\n",
    "    }\n",
    "    results = minimize(erk.portfolio_vol, init_guess,\n",
    "                       args = (cov,), method=\"SLSQP\",\n",
    "                       options = {'disp': False},\n",
    "                       constraints= (return_is_target, weights_sum_to_1),\n",
    "                       bounds = bounds\n",
    "                      )\n",
    "    return results.x"
   ]
  },
  {
   "cell_type": "code",
   "execution_count": 7,
   "id": "782fdd4c-94d4-433d-a104-b86fb72807de",
   "metadata": {},
   "outputs": [
    {
     "data": {
      "text/plain": [
       "['Games', 'Fin']"
      ]
     },
     "execution_count": 7,
     "metadata": {},
     "output_type": "execute_result"
    }
   ],
   "source": [
    "l"
   ]
  },
  {
   "cell_type": "code",
   "execution_count": 21,
   "id": "f5b029bd-1580-4888-a6fa-a32d20dd71df",
   "metadata": {},
   "outputs": [
    {
     "data": {
      "text/plain": [
       "0.056163669406706564"
      ]
     },
     "execution_count": 21,
     "metadata": {},
     "output_type": "execute_result"
    }
   ],
   "source": [
    "w15 = erk.minimize_vol(0.15, er[l], cov.loc[l,l])\n",
    "vol15 = erk.portfolio_vol(w15, cov.loc[l,l])\n",
    "vol15"
   ]
  },
  {
   "cell_type": "code",
   "execution_count": 13,
   "id": "a7168cab-ac7d-4501-a152-5b74d4746d0e",
   "metadata": {},
   "outputs": [
    {
     "data": {
      "text/plain": [
       "array([0.47287631, 0.52712369])"
      ]
     },
     "execution_count": 13,
     "metadata": {},
     "output_type": "execute_result"
    }
   ],
   "source": [
    "w15"
   ]
  },
  {
   "cell_type": "code",
   "execution_count": 27,
   "id": "4122f9b3-8967-467e-a428-6db7f221df92",
   "metadata": {
    "tags": []
   },
   "outputs": [],
   "source": [
    "import pandas as pd\n",
    "def optimal_weights(n_points, er, cov):\n",
    "    \"\"\"\n",
    "    -> list of weights to run the optimizer on to minimize the vol\n",
    "    \"\"\"\n",
    "    target_rs = np.linspace(er.min(), er.max(), n_points)\n",
    "    weights = [minimize_vol(target_return, er, cov) for target_return in target_rs]\n",
    "    return weights\n",
    "\n",
    "def plot_ef(n_points, er, cov, style = \".-\" ):\n",
    "    \"\"\"\n",
    "    Plots the N-asset efficient frontier\n",
    "    \"\"\"\n",
    "    weights = optimal_weights(n_points, er, cov)\n",
    "    rets = [erk.portfolio_return(w, er) for w in weights]\n",
    "    vols = [erk.portfolio_vol(w, cov) for w in weights]\n",
    "    ef = pd.DataFrame({\n",
    "        \"Returns\":rets,\n",
    "        \"Volatility\":vols\n",
    "    })\n",
    "    return ef.plot.line(x=\"Volatility\", y = \"Returns\", style = style)"
   ]
  },
  {
   "cell_type": "code",
   "execution_count": 29,
   "id": "f9e76e79-2b0b-40c3-ad96-1e8168ba4736",
   "metadata": {},
   "outputs": [
    {
     "data": {
      "text/plain": [
       "<AxesSubplot:xlabel='Volatility'>"
      ]
     },
     "execution_count": 29,
     "metadata": {},
     "output_type": "execute_result"
    },
    {
     "data": {
      "image/png": "[encoded data removed]",
      "text/plain": [
       "<Figure size 432x288 with 1 Axes>"
      ]
     },
     "metadata": {
      "needs_background": "light"
     },
     "output_type": "display_data"
    }
   ],
   "source": [
    "l = [\"Smoke\", \"Fin\", \"Games\", \"Coal\"]\n",
    "erk.plot_ef(25, er[l], cov.loc[l,l])"
   ]
  },
  {
   "cell_type": "code",
   "execution_count": null,
   "id": "eef15eee-637f-467b-abbd-dcec8c94a3c8",
   "metadata": {},
   "outputs": [],
   "source": []
  }
 ],
 "metadata": {
  "kernelspec": {
   "display_name": "Python 3 (ipykernel)",
   "language": "python",
   "name": "python3"
  },
  "language_info": {
   "codemirror_mode": {
    "name": "ipython",
    "version": 3
   },
   "file_extension": ".py",
   "mimetype": "text/x-python",
   "name": "python",
   "nbconvert_exporter": "python",
   "pygments_lexer": "ipython3",
   "version": "3.9.7"
  }
 },
 "nbformat": 4,
 "nbformat_minor": 5
}
